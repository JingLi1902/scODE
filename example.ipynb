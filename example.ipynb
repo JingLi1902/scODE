{
 "cells": [
  {
   "cell_type": "code",
   "execution_count": 1,
   "metadata": {},
   "outputs": [],
   "source": [
    "%matplotlib inline\n",
    "%load_ext autoreload\n",
    "%autoreload 2\n",
    "import matplotlib.pyplot as plt\n",
    "import os\n",
    "import numpy as np\n",
    "\n",
    "from VelocytoAnalysis import *"
   ]
  },
  {
   "cell_type": "markdown",
   "metadata": {},
   "source": [
    "# Load Data"
   ]
  },
  {
   "cell_type": "code",
   "execution_count": 2,
   "metadata": {},
   "outputs": [],
   "source": [
    "dir_data = 'data/synthetic/dyngen_all/bifurcating/real/gold/cellbench-SC3_luyitian'\n",
    "# dir_data = 'data/synthetic/dyngen_all/bifurcating/real/gold/cellbench-SC1_luyitian'\n",
    "\n",
    "# Counts\n",
    "counts = np.loadtxt(os.path.join(dir_data, 'counts.csv'), delimiter=\",\")\n",
    "# Velocity\n",
    "velocity = np.loadtxt(os.path.join(dir_data, 'velocity.csv'), delimiter=\",\")\n",
    "# Cellular States. Run Clustering Algorithm is not known\n",
    "milestones = np.loadtxt(os.path.join(dir_data, 'milestones.csv'), delimiter=\",\")\n",
    "\n",
    "###### Underlying Truth - leave blank if not known ########\n",
    "\n",
    "# True GRN - pairs of true regulatory links\n",
    "grn_true = np.loadtxt(os.path.join(dir_data, 'grn.csv'), delimiter=\",\")\n",
    "\n",
    "# True lineages - cellular states which have direct transitions\n",
    "lineages_true = np.loadtxt(os.path.join(dir_data, 'lineages.csv'), delimiter=\",\")"
   ]
  },
  {
   "cell_type": "markdown",
   "metadata": {},
   "source": [
    "# Trajectory Inference"
   ]
  },
  {
   "cell_type": "code",
   "execution_count": 3,
   "metadata": {},
   "outputs": [
    {
     "name": "stdout",
     "output_type": "stream",
     "text": [
      "Fitted model | Training R-Square: 0.8946; Test R-Square: 0.7386\n",
      "ODE Simulation Done.\n",
      "Root is 4.0\n"
     ]
    }
   ],
   "source": [
    "# Fit model\n",
    "model = build_model(counts, velocity)\n",
    "\n",
    "# ODE Simulation\n",
    "path = ode_simulation(counts, model)\n",
    "\n",
    "# Compute Lineages\n",
    "lineages = get_lineage(path, counts, milestones)\n",
    "# pseudotime"
   ]
  },
  {
   "cell_type": "code",
   "execution_count": 4,
   "metadata": {},
   "outputs": [
    {
     "name": "stdout",
     "output_type": "stream",
     "text": [
      "Correctness of Lineages: 0.667\n"
     ]
    }
   ],
   "source": [
    "# Evaluate lineages if true lineage is known\n",
    "correctness_velocity = compute_lineage_coorectness(lineages, lineages_true)\n",
    "print('Correctness of Lineages: %.3f' % correctness_velocity)"
   ]
  },
  {
   "cell_type": "markdown",
   "metadata": {},
   "source": [
    "### Other Methods "
   ]
  },
  {
   "cell_type": "code",
   "execution_count": null,
   "metadata": {
    "collapsed": true
   },
   "outputs": [],
   "source": [
    "# Import R"
   ]
  },
  {
   "cell_type": "markdown",
   "metadata": {},
   "source": [
    "# Gene Regulatory Network"
   ]
  },
  {
   "cell_type": "code",
   "execution_count": 5,
   "metadata": {},
   "outputs": [
    {
     "name": "stdout",
     "output_type": "stream",
     "text": [
      "Tree method: RF\n",
      "K: sqrt\n",
      "Number of trees: 1000\n",
      "Elapsed time: 13.38 seconds\n",
      "\n",
      "Tree method: RF\n",
      "K: sqrt\n",
      "Number of trees: 1000\n",
      "Elapsed time: 13.28 seconds\n",
      "\n"
     ]
    }
   ],
   "source": [
    "# pair-wise regulatory links score matrix - GENIE3: expression to expression\n",
    "VIM_genie3 = get_GRN(counts, velocity=None)\n",
    "# pair-wise regulatory links score matrix - expression to velocity\n",
    "VIM_velocity = get_GRN(counts, velocity=velocity)"
   ]
  },
  {
   "cell_type": "code",
   "execution_count": 6,
   "metadata": {},
   "outputs": [
    {
     "name": "stdout",
     "output_type": "stream",
     "text": [
      "AUROC score for GRN | GENIE3: 0.6303; Velocity: 0.6545\n"
     ]
    }
   ],
   "source": [
    "# Evaluation if true GRN is known\n",
    "auroc_genie3 = compute_GRN_auroc(VIM_genie3, grn_true)\n",
    "auroc_velocity = compute_GRN_auroc(VIM_velocity, grn_true)\n",
    "print('AUROC score for GRN | GENIE3: %.4f; Velocity: %.4f' % (auroc_genie3, auroc_velocity)) "
   ]
  }
 ],
 "metadata": {
  "kernelspec": {
   "display_name": "Python 3",
   "language": "python",
   "name": "python3"
  },
  "language_info": {
   "codemirror_mode": {
    "name": "ipython",
    "version": 3
   },
   "file_extension": ".py",
   "mimetype": "text/x-python",
   "name": "python",
   "nbconvert_exporter": "python",
   "pygments_lexer": "ipython3",
   "version": "3.6.1"
  }
 },
 "nbformat": 4,
 "nbformat_minor": 2
}
