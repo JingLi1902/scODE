{
 "cells": [
  {
   "cell_type": "code",
   "execution_count": 1,
   "metadata": {},
   "outputs": [],
   "source": [
    "%matplotlib inline\n",
    "%load_ext autoreload\n",
    "%autoreload 2\n",
    "import matplotlib.pyplot as plt\n",
    "import os\n",
    "import numpy as np\n",
    "\n",
    "from VelocytoAnalysis import RNA_ODE"
   ]
  },
  {
   "cell_type": "markdown",
   "metadata": {},
   "source": [
    "# Load Data"
   ]
  },
  {
   "cell_type": "code",
   "execution_count": 2,
   "metadata": {},
   "outputs": [],
   "source": [
    "dir_data = 'data'\n",
    "\n",
    "# Counts\n",
    "counts = np.loadtxt(os.path.join(dir_data, 'counts.csv'), delimiter=\",\")\n",
    "# Velocity\n",
    "velocity = np.loadtxt(os.path.join(dir_data, 'velocity.csv'), delimiter=\",\")\n",
    "# Cellular States. Run Clustering Algorithm is not known\n",
    "celltype = np.loadtxt(os.path.join(dir_data, 'milestones.csv'), delimiter=\",\")"
   ]
  },
  {
   "cell_type": "markdown",
   "metadata": {},
   "source": [
    "# Build RNA_ODE class"
   ]
  },
  {
   "cell_type": "code",
   "execution_count": 3,
   "metadata": {},
   "outputs": [],
   "source": [
    "rna_ode = RNA_ODE(counts, velocity, celltype)"
   ]
  },
  {
   "cell_type": "markdown",
   "metadata": {},
   "source": [
    "# Trajectory Inference"
   ]
  },
  {
   "cell_type": "code",
   "execution_count": 4,
   "metadata": {},
   "outputs": [
    {
     "name": "stdout",
     "output_type": "stream",
     "text": [
      "Fitted model | Training R-Square: 0.8946; Test R-Square: 0.7386\n",
      "ODE Simulation Done.\n",
      "Root is 4.0\n"
     ]
    }
   ],
   "source": [
    "# Fit model\n",
    "model = rna_ode.build_model()\n",
    "\n",
    "# ODE Simulation\n",
    "path= rna_ode.ode_simulation()\n",
    "\n",
    "# Compute Lineages\n",
    "lineages = rna_ode.compute_lineages()"
   ]
  },
  {
   "cell_type": "markdown",
   "metadata": {},
   "source": [
    "Evaluate lineages if true lineage is known"
   ]
  },
  {
   "cell_type": "code",
   "execution_count": 5,
   "metadata": {},
   "outputs": [
    {
     "name": "stdout",
     "output_type": "stream",
     "text": [
      "Correctness of Lineages: 0.667\n"
     ]
    }
   ],
   "source": [
    "# True lineages - cellular states which have direct transitions\n",
    "lineages_true = np.loadtxt(os.path.join(dir_data, 'lineages.csv'), delimiter=\",\")\n",
    "correctness = rna_ode.evaluate_lineage_correctness(lineages_true)\n",
    "print('Correctness of Lineages: %.3f' % correctness)"
   ]
  },
  {
   "cell_type": "markdown",
   "metadata": {},
   "source": [
    "# Gene Regulatory Network"
   ]
  },
  {
   "cell_type": "code",
   "execution_count": 6,
   "metadata": {},
   "outputs": [
    {
     "name": "stdout",
     "output_type": "stream",
     "text": [
      "Tree method: RF\n",
      "K: sqrt\n",
      "Number of trees: 1000\n",
      "Elapsed time: 11.95 seconds\n",
      "\n",
      "Tree method: RF\n",
      "K: sqrt\n",
      "Number of trees: 1000\n",
      "Elapsed time: 11.88 seconds\n",
      "\n"
     ]
    }
   ],
   "source": [
    "# pair-wise regulatory links score matrix - GENIE3: expression to expression\n",
    "grn_scores_genie3 = rna_ode.compute_grn_scores(method='GENIE3')\n",
    "# pair-wise regulatory links score matrix - RNA_ODE: expression to velocity\n",
    "grn_scores_rnaode = rna_ode.compute_grn_scores(method='RNA_ODE')"
   ]
  },
  {
   "cell_type": "markdown",
   "metadata": {},
   "source": [
    "Evaluate GRN if true GRN is known"
   ]
  },
  {
   "cell_type": "code",
   "execution_count": 7,
   "metadata": {},
   "outputs": [
    {
     "name": "stdout",
     "output_type": "stream",
     "text": [
      "AUROC score for GRN | GENIE3: 0.6162; RNA_ODE: 0.6303\n"
     ]
    }
   ],
   "source": [
    "# True GRN - pairs of true regulatory links\n",
    "grn_true = np.loadtxt(os.path.join(dir_data, 'grn.csv'), delimiter=\",\")\n",
    "\n",
    "auroc_genie3 = rna_ode.evaluate_grn_auroc(grn_true, grn_scores_genie3)\n",
    "auroc_rnaode = rna_ode.evaluate_grn_auroc(grn_true, grn_scores_rnaode)\n",
    "print('AUROC score for GRN | GENIE3: %.4f; RNA_ODE: %.4f' % (auroc_genie3, auroc_rnaode)) "
   ]
  }
 ],
 "metadata": {
  "kernelspec": {
   "display_name": "Python 3",
   "language": "python",
   "name": "python3"
  },
  "language_info": {
   "codemirror_mode": {
    "name": "ipython",
    "version": 3
   },
   "file_extension": ".py",
   "mimetype": "text/x-python",
   "name": "python",
   "nbconvert_exporter": "python",
   "pygments_lexer": "ipython3",
   "version": "3.6.10"
  }
 },
 "nbformat": 4,
 "nbformat_minor": 2
}
