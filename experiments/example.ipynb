# example.ipynb 示例内容
import numpy as np
from VelocytoAnalysis.model import BUILD_MODEL
from VelocytoAnalysis.ode import ODE_SIMULATION

# 加载数据
counts = np.load('counts.npy')
velocity = np.load('velocity.npy')

# 建立模型
model = BUILD_MODEL(counts, velocity, method='ensemble', n_estimators=100, max_depth=20, lasso_alpha=0.5, noise_factor=0.1)

# ODE 模拟
# 可以尝试不同的噪声处理方法和高阶数值方法
path = ODE_SIMULATION(counts, model, dt=0.01, n=200, noise=0.05, noise_method='mean', rk4=True)

# 如果数据是时间序列
if counts.ndim == 3:
    print("Performing time series analysis with LSTM and GRU models.")
    x_train_seq = np.reshape(counts, (counts.shape[0], counts.shape[1], 1))
    x_val_seq = np.reshape(counts, (counts.shape[0], counts.shape[1], 1))
    
    lstm_model = build_lstm_model((x_train_seq.shape[1], x_train_seq.shape[2]))
    lstm_model.fit(x_train_seq, velocity, epochs=50, batch_size=32, validation_data=(x_val_seq, velocity))
    
    train_score_lstm = lstm_model.evaluate(x_train_seq, velocity, verbose=0)
    test_score_lstm = lstm_model.evaluate(x_val_seq, velocity, verbose=0)
    
    print('LSTM model | Training Loss: %.4f; Test Loss: %.4f' % (train_score_lstm, test_score_lstm))
    
    gru_model = build_gru_model((x_train_seq.shape[1], x_train_seq.shape[2]))
    gru_model.fit(x_train_seq, velocity, epochs=50, batch_size=32, validation_data=(x_val_seq, velocity))
    
    train_score_gru = gru_model.evaluate(x_train_seq, velocity, verbose=0)
    test_score_gru = gru_model.evaluate(x_val_seq, velocity, verbose=0)
    
    print('GRU model | Training Loss: %.4f; Test Loss: %.4f' % (train_score_gru, test_score_gru))
